{
  "nbformat": 4,
  "nbformat_minor": 0,
  "metadata": {
    "colab": {
      "provenance": [],
      "authorship_tag": "ABX9TyMgKmC2VzO8PQHhxicr0Sou",
      "include_colab_link": true
    },
    "kernelspec": {
      "name": "python3",
      "display_name": "Python 3"
    },
    "language_info": {
      "name": "python"
    }
  },
  "cells": [
    {
      "cell_type": "markdown",
      "metadata": {
        "id": "view-in-github",
        "colab_type": "text"
      },
      "source": [
        "<a href=\"https://colab.research.google.com/github/nikhilzanje/eda/blob/main/string.ipynb\" target=\"_parent\"><img src=\"https://colab.research.google.com/assets/colab-badge.svg\" alt=\"Open In Colab\"/></a>"
      ]
    },
    {
      "cell_type": "code",
      "execution_count": null,
      "metadata": {
        "id": "WAtZ-iJTqsgF"
      },
      "outputs": [],
      "source": []
    },
    {
      "cell_type": "markdown",
      "source": [
        "Problem 1\n",
        "You are given a sentence which reads\"Wikipedia is a free online encyclopedia,created and edited  by volunteers around the world and hosted by the wikimedia foundation.\"\n",
        "Find the number of words in given sentence"
      ],
      "metadata": {
        "id": "atDaHqRDqxTJ"
      }
    },
    {
      "cell_type": "code",
      "source": [
        "#store the given sentence in  a variable\n",
        "sentence=\"Wikipedia is a free online encyclopedia created and edited by volunteers around the world and hosted by the wikimedia foundation\"\n",
        "#total no of words\n",
        "no_of_words=sentence.count('')+1\n",
        "print(no_of_words)"
      ],
      "metadata": {
        "colab": {
          "base_uri": "https://localhost:8080/"
        },
        "id": "gTZ4pBaqsBuv",
        "outputId": "87d8aee4-ef1e-471a-cc26-3ba7bd82e21d"
      },
      "execution_count": 2,
      "outputs": [
        {
          "output_type": "stream",
          "name": "stdout",
          "text": [
            "130\n"
          ]
        }
      ]
    },
    {
      "cell_type": "markdown",
      "source": [
        "Problem 2\n",
        "Write a python code which takes a number and returns a corresponding string of hyphens.For  example if the number is 3 it will return'---',if the number is 5 it will return '---'"
      ],
      "metadata": {
        "id": "yKzXfYEMtoSM"
      }
    },
    {
      "cell_type": "code",
      "source": [
        "#store the input user input  in the variable\n",
        "inputted_number=int(input())\n",
        "result=inputted_number*'-'\n",
        "print(result)"
      ],
      "metadata": {
        "colab": {
          "base_uri": "https://localhost:8080/"
        },
        "id": "zpqG-f--u8f8",
        "outputId": "26b405c3-4bde-480c-a037-d22582e43b13"
      },
      "execution_count": 3,
      "outputs": [
        {
          "output_type": "stream",
          "name": "stdout",
          "text": [
            "3\n",
            "---\n"
          ]
        }
      ]
    },
    {
      "cell_type": "markdown",
      "source": [
        "Problem 3\n",
        "\n",
        "A string can be called a safe bridge if it has no gaps in it i.e no spaces.You  are supposed to take  an input from the user and print whether the string is safe bridge or not."
      ],
      "metadata": {
        "id": "3oHYZWL4w5I9"
      }
    },
    {
      "cell_type": "code",
      "source": [
        "#store the user input in a variable\n",
        "bridge=input()\n",
        "#return true if the bridge is safe  and false if the bridge is not set\n",
        "is_safe_bridge=bridge.find(\" \")==-1\n",
        "#fill in the blanks\n",
        "print(f\"It is {is_safe_bridge} that the bridge is a safe bridge\")\n"
      ],
      "metadata": {
        "colab": {
          "base_uri": "https://localhost:8080/"
        },
        "id": "OQSDhNW0x9kl",
        "outputId": "c1a873e1-3395-4efc-b45f-787222a7b802"
      },
      "execution_count": 5,
      "outputs": [
        {
          "output_type": "stream",
          "name": "stdout",
          "text": [
            "nikhil\n",
            "It is True that the bridge is a safe bridge\n"
          ]
        }
      ]
    },
    {
      "cell_type": "code",
      "source": [
        "\n"
      ],
      "metadata": {
        "id": "o5p5LauBwKDQ"
      },
      "execution_count": null,
      "outputs": []
    },
    {
      "cell_type": "markdown",
      "source": [
        "Problem 4\n",
        "Count the number of d's in a string inputted by the user.This will be case insensitive.\n"
      ],
      "metadata": {
        "id": "9wo7kX_j0a6k"
      }
    },
    {
      "cell_type": "code",
      "source": [
        "#store the user input in a variable\n",
        "user_string=\"Debris was scattered all over the yard in the densest region of Denmark\"\n",
        "#store the count of letter 'D' in the inputted string.Note this will be  a case insensitive search\n",
        "D_counts=user_string.count(\"D\")\n",
        "#Fill in the blanks\n",
        "print(f\"The total occurence of D in the user string is:{D_counts}\")"
      ],
      "metadata": {
        "colab": {
          "base_uri": "https://localhost:8080/"
        },
        "id": "6cx--hl-04g8",
        "outputId": "934ab321-ebf3-43aa-a3a6-ff7116f3d50f"
      },
      "execution_count": 8,
      "outputs": [
        {
          "output_type": "stream",
          "name": "stdout",
          "text": [
            "The total occurence of D in the user string is:2\n"
          ]
        }
      ]
    },
    {
      "cell_type": "markdown",
      "source": [
        "Problem 5\n",
        "Check whether a given string is palindrome .A palindrome  is a word,number,phrase or other sequence of characters which reads the same backward as forward such as madam ,racecar"
      ],
      "metadata": {
        "id": "poe4bpqF3GLl"
      }
    },
    {
      "cell_type": "code",
      "source": [
        "#store the  user input in the variable\n",
        "user_string=input()\n",
        "#function\n",
        "def reverse_string(str):\n",
        " return str[::]==str[::-1]\n",
        " #print true if a string is palindrome else print false\n",
        " print(reverse_string(user_string))\n"
      ],
      "metadata": {
        "colab": {
          "base_uri": "https://localhost:8080/"
        },
        "id": "GT5xmaQV30og",
        "outputId": "61e04aa7-5c93-4a35-9d98-0b50ada7e9be"
      },
      "execution_count": 10,
      "outputs": [
        {
          "name": "stdout",
          "output_type": "stream",
          "text": [
            "madam\n"
          ]
        }
      ]
    },
    {
      "cell_type": "code",
      "source": [],
      "metadata": {
        "id": "wj8vmNlK2IHd"
      },
      "execution_count": null,
      "outputs": []
    },
    {
      "cell_type": "code",
      "source": [],
      "metadata": {
        "id": "9notUJyy3Et6"
      },
      "execution_count": null,
      "outputs": []
    }
  ]
}