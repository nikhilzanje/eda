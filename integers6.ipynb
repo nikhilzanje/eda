{
  "nbformat": 4,
  "nbformat_minor": 0,
  "metadata": {
    "colab": {
      "provenance": [],
      "authorship_tag": "ABX9TyOL97OFNr1z/ltGMaUXD/qQ",
      "include_colab_link": true
    },
    "kernelspec": {
      "name": "python3",
      "display_name": "Python 3"
    },
    "language_info": {
      "name": "python"
    }
  },
  "cells": [
    {
      "cell_type": "markdown",
      "metadata": {
        "id": "view-in-github",
        "colab_type": "text"
      },
      "source": [
        "<a href=\"https://colab.research.google.com/github/nikhilzanje/eda/blob/main/integers6.ipynb\" target=\"_parent\"><img src=\"https://colab.research.google.com/assets/colab-badge.svg\" alt=\"Open In Colab\"/></a>"
      ]
    },
    {
      "cell_type": "code",
      "execution_count": null,
      "metadata": {
        "id": "ZAwMhvHi7SOI"
      },
      "outputs": [],
      "source": []
    },
    {
      "cell_type": "markdown",
      "source": [
        "Problem 1\n",
        "In a cricket tournament based on the outcome of a particular match a team gets following points:\n",
        " Wins get 3 points\n",
        " draws get 1 point\n",
        " losses get 0 points\n",
        " Team aravali plays 8 matches in this tournament.It wins 4 matches,loses 3 matches, and draws 1.What is the total  number of points gained by team aravali\n"
      ],
      "metadata": {
        "id": "qTeajCz87a2r"
      }
    },
    {
      "cell_type": "code",
      "source": [
        "#the outcome variables are defined below\n",
        "wins=4\n",
        "draws=1\n",
        "losses=3\n",
        "\n",
        "#calculate the total points gained by team aravali\n",
        "aravali_points=wins*3+losses*0+draws*1\n",
        "print(aravali_points)"
      ],
      "metadata": {
        "colab": {
          "base_uri": "https://localhost:8080/"
        },
        "id": "SfzS-V5M9G0-",
        "outputId": "c6245835-5af6-4e8c-cd85-513a828b58f1"
      },
      "execution_count": 2,
      "outputs": [
        {
          "output_type": "stream",
          "name": "stdout",
          "text": [
            "13\n"
          ]
        }
      ]
    },
    {
      "cell_type": "code",
      "source": [],
      "metadata": {
        "id": "6gJ1jPnX_2pT"
      },
      "execution_count": null,
      "outputs": []
    },
    {
      "cell_type": "markdown",
      "source": [
        "Problem 2 \n",
        "Root of the function f(x) is defined as the value where f(x)<br\n",
        "Consider  a quadratic function f(x)=x^2+3x-4.\n",
        "Find the value of function f(x) at points x=2,x=-1,x=1\n"
      ],
      "metadata": {
        "id": "rdDl3bAs_73a"
      }
    },
    {
      "cell_type": "code",
      "source": [
        "#calculate  the value of function  f(x) at x=2\n",
        "x=2\n",
        "func_evaluated_at_2=x**2+3*x-4\n",
        "print(f\"func_evaluated_at_2:{func_evaluated_at_2}\\n\")\n",
        "\n",
        "#calculate the value of function f(x) at x=-1\n",
        "y=-1\n",
        "func_evaluated_at_1=y**2+3*y-4\n",
        "print(f\"func_evaluated at minus1:{func_evaluated_at_1}\")\n",
        "\n"
      ],
      "metadata": {
        "colab": {
          "base_uri": "https://localhost:8080/"
        },
        "id": "6dhRN_B-AQZ-",
        "outputId": "aeca9490-4c55-4813-ec67-2c5276fcf45b"
      },
      "execution_count": 16,
      "outputs": [
        {
          "output_type": "stream",
          "name": "stdout",
          "text": [
            "func_evaluated_at_2:6\n",
            "\n",
            "func_evaluated at minus1:-6\n"
          ]
        }
      ]
    },
    {
      "cell_type": "markdown",
      "source": [
        "Return  the boolean for each value of x to find out whether that  value is a root of f(x)"
      ],
      "metadata": {
        "id": "CQpFK5iePwuP"
      }
    },
    {
      "cell_type": "code",
      "source": [
        "#Calculate the percentage of apples and print the variable\n",
        "print(func_evaluated_at_2==0)\n",
        "print(\"\\n\")\n",
        "print(func_evaluated_at_1==0)"
      ],
      "metadata": {
        "colab": {
          "base_uri": "https://localhost:8080/"
        },
        "id": "uiIVsmHTIJQp",
        "outputId": "694b362d-28d3-4dce-9e3e-7733ca880efe"
      },
      "execution_count": 17,
      "outputs": [
        {
          "output_type": "stream",
          "name": "stdout",
          "text": [
            "False\n",
            "\n",
            "\n",
            "False\n"
          ]
        }
      ]
    },
    {
      "cell_type": "markdown",
      "source": [
        "Problem 3 \n",
        "A bag contains 45 apples,65 oranges and 30 bananas.Find the percentage of each type of food items in the bag\n",
        " \n"
      ],
      "metadata": {
        "id": "FknXt6yoRtOt"
      }
    },
    {
      "cell_type": "code",
      "source": [
        "apples=45\n",
        "oranges=65\n",
        "bananas=30\n",
        "sum=apples+oranges+bananas\n",
        "\n",
        "#calculate the percentage of apples and print the variable\n",
        "percentage_apple=apples/sum *100\n",
        "print(f\"percentage_apple:{percentage_apple}\")\n",
        "#calculate the percentage of oranges and print the variable\n",
        "percentage_oranges=oranges/sum*100\n",
        "print(f\"percentage_oranges:{percentage_oranges}\")\n",
        "#calculate the percentage of bananas and print the variable\n",
        "percentage_bananas=bananas/sum*100\n",
        "print(f\"percentage_bananas:{percentage_bananas}\")\n"
      ],
      "metadata": {
        "colab": {
          "base_uri": "https://localhost:8080/"
        },
        "id": "WDzAjP5aS0ZH",
        "outputId": "4af83c43-62d6-49c1-dfdd-917edd00621b"
      },
      "execution_count": 23,
      "outputs": [
        {
          "output_type": "stream",
          "name": "stdout",
          "text": [
            "percentage_apple:32.142857142857146\n",
            "percentage_oranges:46.42857142857143\n",
            "percentage_bananas:21.428571428571427\n"
          ]
        }
      ]
    },
    {
      "cell_type": "code",
      "source": [],
      "metadata": {
        "id": "7H-PDsxIXRvR"
      },
      "execution_count": null,
      "outputs": []
    },
    {
      "cell_type": "markdown",
      "source": [
        "Problem 4\n",
        "You were playing a fun guessing  game during your school break .There were a total of 100 participants excluding you.Out of these 100 people,30 were math majors,45 were economic majors and 25 were physics major.\n",
        "The game  was divided  into three rounds\n",
        "In first round  you had to guess the no.of maths major and you currently guessed 20 of them.\n",
        "In  the second round you had to guess the no. of economic majors and you correctly guessed 30 of them\n",
        "In the third round you had to guess the no. of physics majors and you correctly guessed 20 of them"
      ],
      "metadata": {
        "id": "MnHPk08xXlxQ"
      }
    },
    {
      "cell_type": "code",
      "source": [
        "#store the number of maths major\n",
        "maths_major=30\n",
        "#store the number of economic major\n",
        "economics_major=45\n",
        "#store the number of physics major\n",
        "physics_major=25\n",
        "#store the no. of correctly guesses of maths majors\n",
        "guesses_maths=20\n",
        "#store the no. of correctly guesses of econoimics majors\n",
        "guesses_economics=30\n",
        "#store the no.of correctly guesses of physics majors\n",
        "guesses_physics=20\n",
        "\n",
        "#calculate your accuracy  in each of the three rounds\n",
        "#print the  maths accuracy\n",
        "print(f\"Maths accuracy :{guesses_maths/maths_major*100}\\n\")\n",
        "#print the economics accuracy\n",
        "print(f\"economics accuracy :{guesses_economics/economics_major*100}\\n\")\n",
        "#print the physics accuracy\n",
        "print(f\"physics accuracy :{guesses_physics/physics_major*100}\\n\")\n",
        "\n",
        "#calculate your overall accuracy in the entire game\n",
        "print(f\"overall accuracy in the entire game :{(guesses_maths+guesses_maths+guesses_physics)/(maths_major+economics_major+physics_major)*100}\")\n",
        "\n"
      ],
      "metadata": {
        "colab": {
          "base_uri": "https://localhost:8080/"
        },
        "id": "i1UfEtj1aG4w",
        "outputId": "ce22b092-8187-4a92-f814-8a96bed48d5f"
      },
      "execution_count": 25,
      "outputs": [
        {
          "output_type": "stream",
          "name": "stdout",
          "text": [
            "Maths accuracy :66.66666666666666\n",
            "\n",
            "economics accuracy :66.66666666666666\n",
            "\n",
            "physics accuracy :80.0\n",
            "\n",
            "overall accuracy in the entire game :60.0\n"
          ]
        }
      ]
    }
  ]
}