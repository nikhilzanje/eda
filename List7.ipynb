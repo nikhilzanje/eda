{
  "nbformat": 4,
  "nbformat_minor": 0,
  "metadata": {
    "colab": {
      "provenance": [],
      "authorship_tag": "ABX9TyMV+Z32nwQ3zlHduq/HzZj5",
      "include_colab_link": true
    },
    "kernelspec": {
      "name": "python3",
      "display_name": "Python 3"
    },
    "language_info": {
      "name": "python"
    }
  },
  "cells": [
    {
      "cell_type": "markdown",
      "metadata": {
        "id": "view-in-github",
        "colab_type": "text"
      },
      "source": [
        "<a href=\"https://colab.research.google.com/github/nikhilzanje/eda/blob/main/List7.ipynb\" target=\"_parent\"><img src=\"https://colab.research.google.com/assets/colab-badge.svg\" alt=\"Open In Colab\"/></a>"
      ]
    },
    {
      "cell_type": "code",
      "execution_count": null,
      "metadata": {
        "id": "iJ1akYheiLIL"
      },
      "outputs": [],
      "source": []
    },
    {
      "cell_type": "markdown",
      "source": [
        "Problem  1\n",
        "A list  contains the average daily temperature(in degree celcius) of a city  over a particular week.Write a python code to swap the highest and lowest temperatures"
      ],
      "metadata": {
        "id": "UNjeHJD2ivYi"
      }
    },
    {
      "cell_type": "code",
      "source": [
        "#A list containing daily temperature through a week\n",
        "temperatures=[34,40,29,33,42,37,39]\n",
        "\n",
        "#highest temperature\n",
        "max_temp=max(temperatures)\n",
        "#max value index\n",
        "max_temp_index=temperatures.index(max_temp)\n",
        "#lowest temperature\n",
        "min_temp=min(temperatures)\n",
        "#storing min value index\n",
        "min_temp_index=temperatures.index(min_temp)\n",
        "#Now swap  the elements using index positions\n",
        "temperatures[min_temp_index]=max_temp\n",
        "temperatures[max_temp_index]=min_temp\n",
        "print(temperatures)"
      ],
      "metadata": {
        "colab": {
          "base_uri": "https://localhost:8080/"
        },
        "id": "O4jCfrXAjiEe",
        "outputId": "8f7d6e9c-5455-4969-eaa5-9cedecd9121e"
      },
      "execution_count": 2,
      "outputs": [
        {
          "output_type": "stream",
          "name": "stdout",
          "text": [
            "[34, 40, 42, 33, 29, 37, 39]\n"
          ]
        }
      ]
    },
    {
      "cell_type": "code",
      "source": [],
      "metadata": {
        "id": "zyMnUJ7Hm6mh"
      },
      "execution_count": null,
      "outputs": []
    },
    {
      "cell_type": "markdown",
      "source": [
        "Problem 2\n",
        "Measure of averages\n",
        "i)mean of  a group is defined  as sum of elements in the group divided by the number of elements in the group.\n",
        "ii)median is the middle number in a sorted,ascending,descinding,list of numbers.If the list has N numbers where N is odd,then median is the element in the middle i.e(N+1/2)th element.If N is even then the median is the mean of(N/2)th and (N/2+1)th elements."
      ],
      "metadata": {
        "id": "97CRfsKhnMOe"
      }
    },
    {
      "cell_type": "code",
      "source": [
        "#List of product prices\n",
        "prod_price_list=[400,250,800,550,600,820,720,15000,360,250]\n",
        "\n",
        "#Calculate the mean of product prices.Use list functions.Also print the mean prices\n",
        "mean_price=sum(prod_price_list)/len(prod_price_list)\n",
        "print(f\"mean_price :{mean_price}\")\n",
        "\n",
        "#Calculate the median price\n",
        "#obtain the sorted price \n",
        "sorted_price= sorted(prod_price_list)\n",
        "print(f\"sorted_prices:{sorted_price}\\n\")\n",
        "\n",
        "#check if the number of elements  in the list is even or odd\n",
        "print(f\"the list is even or odd :{len(prod_price_list)%2==0}\\n\")\n",
        "#use the corresponding formula to calculate the median  and print the median\n",
        "#first sorted element\n",
        "sort_elements=len(sorted_price)\n",
        "print(f\"sort_elements:{sort_elements}\")\n",
        "median_price=(sorted_price[int(sort_elements/2-1)]+sorted_price[int(sort_elements/2)])/2\n",
        "print(f\"median is:{median_price}\")\n",
        "# check which is greater mean and median\n",
        "if(mean_price>median_price):\n",
        "  print(f\"\\n mean is greater\")\n",
        "else:\n",
        "  print(f\"\\n median is greater\")\n"
      ],
      "metadata": {
        "colab": {
          "base_uri": "https://localhost:8080/"
        },
        "id": "shTCujOXqFtB",
        "outputId": "d32540f2-be40-4b18-91f7-49c1ad674f5f"
      },
      "execution_count": 4,
      "outputs": [
        {
          "output_type": "stream",
          "name": "stdout",
          "text": [
            "mean_price :1975.0\n",
            "sorted_prices:[250, 250, 360, 400, 550, 600, 720, 800, 820, 15000]\n",
            "\n",
            "the list is even or odd :True\n",
            "\n",
            "sort_elements:10\n",
            "median is:575.0\n",
            "\n",
            " mean is greater\n"
          ]
        }
      ]
    },
    {
      "cell_type": "code",
      "source": [],
      "metadata": {
        "id": "_MCpky_vpXKr"
      },
      "execution_count": null,
      "outputs": []
    },
    {
      "cell_type": "markdown",
      "source": [
        "Problem 3\n",
        "Having  a nested list sometimes might be a bit probleatic.An  individual was asked to asked to collect the names of companies in the technology sector.While  creating the list by mistake the last three companies were suvsumed in a list as shown below.You are required to get rid of nesting"
      ],
      "metadata": {
        "id": "nS8RNuwz2UuG"
      }
    },
    {
      "cell_type": "code",
      "source": [
        "#The list  of tech companies curated by the individual\n",
        "tech_companies=['Qualcomm','google','apple',['Nvidia','cisco','samsng']]\n",
        "#the final list that we want\n",
        "#correct_tech_companies-['qualcom','google','apple','nvidia','cisco','samsung']\n",
        "#write your code below\n",
        "remove_element=tech_companies[-1]\n",
        "tech_companies.remove(remove_element)\n",
        "#now add\n",
        "add_element=tech_companies.extend(remove_element)\n",
        "print(tech_companies)"
      ],
      "metadata": {
        "colab": {
          "base_uri": "https://localhost:8080/"
        },
        "id": "wOYgAXCn3188",
        "outputId": "e33ef863-b242-4240-8cb3-eb7fecd748e6"
      },
      "execution_count": 6,
      "outputs": [
        {
          "output_type": "stream",
          "name": "stdout",
          "text": [
            "['Qualcomm', 'google', 'apple', 'Nvidia', 'cisco', 'samsng']\n"
          ]
        }
      ]
    },
    {
      "cell_type": "code",
      "source": [],
      "metadata": {
        "id": "4AJq3Rjl_Ssy"
      },
      "execution_count": null,
      "outputs": []
    }
  ]
}